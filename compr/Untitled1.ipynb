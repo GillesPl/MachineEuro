{
 "cells": [
  {
   "cell_type": "code",
   "execution_count": null,
   "metadata": {},
   "outputs": [],
   "source": [
    "import requests\n",
    "from pynput import keyboard\n",
    "import time"
   ]
  },
  {
   "cell_type": "code",
   "execution_count": null,
   "metadata": {},
   "outputs": [],
   "source": [
    "started = False\n",
    "keyController = keyboard.Controller()\n",
    "stop = False\n",
    "\n",
    "def on_press(key):\n",
    "    global started, stop\n",
    "    if (key == keyboard.Key.caps_lock):\n",
    "        print(key)\n",
    "        if (started):\n",
    "            stop = True\n",
    "            started = False\n",
    "        else:\n",
    "            started = True\n",
    "    return True\n",
    "\n",
    "def with_statements():\n",
    "    global started, keyController\n",
    "    if (started):\n",
    "        keyController.type('T')"
   ]
  },
  {
   "cell_type": "code",
   "execution_count": null,
   "metadata": {},
   "outputs": [],
   "source": [
    "with keyboard.Listener(on_press=on_press) as listener:\n",
    "    listener.join()"
   ]
  },
  {
   "cell_type": "code",
   "execution_count": null,
   "metadata": {},
   "outputs": [],
   "source": [
    "listener = keyboard.Listener(on_press=on_press)\n",
    "listener.start()\n",
    "stop = False\n",
    "while stop == False:\n",
    "    global started, keyController\n",
    "    with_statements()\n",
    "    time.sleep(0.2)\n",
    "listener.stop()"
   ]
  },
  {
   "cell_type": "code",
   "execution_count": null,
   "metadata": {},
   "outputs": [],
   "source": []
  }
 ],
 "metadata": {
  "kernelspec": {
   "display_name": "Python 3",
   "language": "python",
   "name": "python3"
  },
  "language_info": {
   "codemirror_mode": {
    "name": "ipython",
    "version": 3
   },
   "file_extension": ".py",
   "mimetype": "text/x-python",
   "name": "python",
   "nbconvert_exporter": "python",
   "pygments_lexer": "ipython3",
   "version": "3.5.4"
  }
 },
 "nbformat": 4,
 "nbformat_minor": 2
}
