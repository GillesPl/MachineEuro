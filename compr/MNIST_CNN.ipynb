{
 "cells": [
  {
   "cell_type": "code",
   "execution_count": 1,
   "metadata": {},
   "outputs": [
    {
     "name": "stderr",
     "output_type": "stream",
     "text": [
      "Using TensorFlow backend.\n"
     ]
    }
   ],
   "source": [
    "% matplotlib inline\n",
    "\n",
    "import os\n",
    "os.environ[\"KERAS_BACKEND\"] = \"tensorflow\"\n",
    "\n",
    "import numpy as np\n",
    "import pandas as pd\n",
    "import matplotlib.pyplot as plt\n",
    "import pickle\n",
    "\n",
    "from sklearn.model_selection import train_test_split\n",
    "from sklearn.metrics import classification_report\n",
    "from sklearn.metrics import confusion_matrix, accuracy_score\n",
    "from sklearn.preprocessing import OneHotEncoder\n",
    "from sklearn import preprocessing\n",
    "\n",
    "import matplotlib.image as mpimg\n",
    "from skimage.io import imread, imshow\n",
    "\n",
    "#importeer Tensorflow namespaces\n",
    "import keras\n",
    "from keras.models import Sequential\n",
    "from keras.layers import Activation\n",
    "from keras.optimizers import SGD\n",
    "from keras.layers import Dense, Dropout, Flatten\n",
    "from keras.layers import Conv2D, MaxPooling2D\n",
    "from keras import backend as K\n",
    "from keras.utils import np_utils\n",
    "K.set_image_dim_ordering('tf')"
   ]
  },
  {
   "cell_type": "code",
   "execution_count": 2,
   "metadata": {},
   "outputs": [
    {
     "data": {
      "text/plain": [
       "(30000, 785)"
      ]
     },
     "execution_count": 2,
     "metadata": {},
     "output_type": "execute_result"
    }
   ],
   "source": [
    "#Inlezen van de dataset\n",
    "df_train = pd.read_csv('train.csv')\n",
    "df_test = pd.read_csv('test.csv')\n",
    "\n",
    "df_train.shape"
   ]
  },
  {
   "cell_type": "code",
   "execution_count": 3,
   "metadata": {},
   "outputs": [
    {
     "name": "stdout",
     "output_type": "stream",
     "text": [
      "channels_last\n"
     ]
    }
   ],
   "source": [
    "# CNN parameters\n",
    "print(K.image_data_format())\n",
    "batch_size = 128\n",
    "num_classes = 10\n",
    "epochs = 10\n",
    "img_rows, img_cols = 28, 28\n",
    "input_shape = (img_rows, img_cols,1)"
   ]
  },
  {
   "cell_type": "code",
   "execution_count": 4,
   "metadata": {},
   "outputs": [],
   "source": [
    "#Opsplitsen in features en targets\n",
    "\n",
    "train_labels = df_train.label.values\n",
    "test_labels = df_test.label.values\n",
    "\n",
    "y_train = np_utils.to_categorical(train_labels)\n",
    "y_test = np_utils.to_categorical(test_labels)\n",
    "\n",
    "X_train = df_train.drop(\"label\",axis=1).values\n",
    "X_train = X_train.reshape((len(X_train),28, 28,1))\n",
    "\n",
    "X_test  = df_test.drop(\"label\",axis=1).values\n",
    "X_test = X_test.reshape((len(X_test),28, 28,1)) # (aantal afbeeldingen, aantal rijen, aantal kolommen, aantal kleurenkanalen)\n",
    "\n",
    "\n"
   ]
  },
  {
   "cell_type": "code",
   "execution_count": 5,
   "metadata": {},
   "outputs": [],
   "source": [
    "# Normalisatie van \n",
    "X_train = X_train.astype('float32')\n",
    "X_test = X_test.astype('float32')\n",
    "X_train /= 255\n",
    "X_test /= 255"
   ]
  },
  {
   "cell_type": "code",
   "execution_count": 6,
   "metadata": {},
   "outputs": [],
   "source": [
    "# model opbouwen\n",
    "\n",
    "model = Sequential()\n",
    "model.add(Conv2D(32, kernel_size=(3, 3),\n",
    "                 activation='relu',\n",
    "                 input_shape=input_shape)) # input convolutional layer 32 verschillende node,\n",
    "                                            #kernel -> formaat dat structuur zoeken\n",
    "                                            # Ingang = input_shape (grootte van input)\n",
    "model.add(MaxPooling2D(pool_size=(2, 2)))  # Reduceren van factor 4 (2 bij 2)\n",
    "model.add(Conv2D(64, (3, 3), activation='relu'))\n",
    "model.add(MaxPooling2D(pool_size=(2, 2)))\n",
    "model.add(Dropout(0.25)) # Zet 25% random uit elke epoch (afwisselend)\n",
    "model.add(Flatten()) # Omzetten naar traditioneel network\n",
    "model.add(Dense(100, activation='relu')) # hidden layer van 100 neurons\n",
    "model.add(Dropout(0.5)) # verhogen bij overfitting\n",
    "model.add(Dense(num_classes, activation='softmax')) # output layer\n",
    "\n",
    "model.compile(loss=keras.losses.categorical_crossentropy,\n",
    "              optimizer=keras.optimizers.Adagrad(),\n",
    "              metrics=['accuracy'])\n"
   ]
  },
  {
   "cell_type": "code",
   "execution_count": 7,
   "metadata": {},
   "outputs": [
    {
     "name": "stdout",
     "output_type": "stream",
     "text": [
      "Epoch 1/10\n",
      "30000/30000 [==============================] - 7s - loss: 0.3218 - acc: 0.9006     \n",
      "Epoch 2/10\n",
      "30000/30000 [==============================] - 3s - loss: 0.1378 - acc: 0.9596     \n",
      "Epoch 3/10\n",
      "30000/30000 [==============================] - 2s - loss: 0.1083 - acc: 0.9682     \n",
      "Epoch 4/10\n",
      "30000/30000 [==============================] - 2s - loss: 0.0944 - acc: 0.9730     \n",
      "Epoch 5/10\n",
      "30000/30000 [==============================] - 2s - loss: 0.0855 - acc: 0.9750     \n",
      "Epoch 6/10\n",
      "30000/30000 [==============================] - 2s - loss: 0.0769 - acc: 0.9778     \n",
      "Epoch 7/10\n",
      "30000/30000 [==============================] - 2s - loss: 0.0741 - acc: 0.9777     \n",
      "Epoch 8/10\n",
      "30000/30000 [==============================] - 3s - loss: 0.0669 - acc: 0.9798     \n",
      "Epoch 9/10\n",
      "30000/30000 [==============================] - 2s - loss: 0.0642 - acc: 0.9807     \n",
      "Epoch 10/10\n",
      "30000/30000 [==============================] - 2s - loss: 0.0626 - acc: 0.9818     \n"
     ]
    }
   ],
   "source": [
    "# Train het CNN\n",
    "\n",
    "history = model.fit(X_train, y_train,\n",
    "          batch_size=batch_size,\n",
    "          epochs=epochs,\n",
    "          verbose=1)"
   ]
  },
  {
   "cell_type": "code",
   "execution_count": 8,
   "metadata": {},
   "outputs": [
    {
     "name": "stdout",
     "output_type": "stream",
     "text": [
      "trainScore [0.025069482701985786, 0.99276666666666669]\n",
      "testScore [0.036462892987222099, 0.98883333333333334]\n"
     ]
    }
   ],
   "source": [
    "scoreTrain = model.evaluate(X_train, y_train, verbose=0)\n",
    "score = model.evaluate(X_test, y_test, verbose=0)\n",
    "print(\"trainScore\", scoreTrain)\n",
    "print(\"testScore\", score)"
   ]
  },
  {
   "cell_type": "code",
   "execution_count": 9,
   "metadata": {},
   "outputs": [
    {
     "data": {
      "text/plain": [
       "[<matplotlib.lines.Line2D at 0x25416521358>]"
      ]
     },
     "execution_count": 9,
     "metadata": {},
     "output_type": "execute_result"
    },
    {
     "data": {
      "image/png": "[encoded data removed]",
      "text/plain": [
       "<matplotlib.figure.Figure at 0x25417902518>"
      ]
     },
     "metadata": {},
     "output_type": "display_data"
    }
   ],
   "source": [
    "plt.plot(history.history['loss'],'red',linewidth=5.0)"
   ]
  },
  {
   "cell_type": "code",
   "execution_count": 18,
   "metadata": {},
   "outputs": [
    {
     "name": "stdout",
     "output_type": "stream",
     "text": [
      "[0.054922182476730086, 0.98266666666666669]\n"
     ]
    }
   ],
   "source": []
  },
  {
   "cell_type": "code",
   "execution_count": 13,
   "metadata": {},
   "outputs": [],
   "source": [
    "model.save('model.h5')  # creates a HDF5 file 'model.h5'"
   ]
  }
 ],
 "metadata": {
  "kernelspec": {
   "display_name": "Python 3",
   "language": "python",
   "name": "python3"
  },
  "language_info": {
   "codemirror_mode": {
    "name": "ipython",
    "version": 3
   },
   "file_extension": ".py",
   "mimetype": "text/x-python",
   "name": "python",
   "nbconvert_exporter": "python",
   "pygments_lexer": "ipython3",
   "version": "3.5.4"
  }
 },
 "nbformat": 4,
 "nbformat_minor": 2
}
