{
 "cells": [
  {
   "cell_type": "code",
   "execution_count": 2,
   "metadata": {},
   "outputs": [],
   "source": [
    "import requests\n",
    "from pynput import keyboard\n",
    "import time"
   ]
  },
  {
   "cell_type": "code",
   "execution_count": 8,
   "metadata": {},
   "outputs": [],
   "source": [
    "started = False\n",
    "keyController = keyboard.Controller()\n",
    "\n",
    "def on_press(key):\n",
    "    global started, keyController\n",
    "    if (key == keyboard.Key.caps_lock):\n",
    "        if (started):\n",
    "            stop = True\n",
    "        else:\n",
    "            started = True\n",
    "    return True\n"
   ]
  },
  {
   "cell_type": "code",
   "execution_count": 9,
   "metadata": {},
   "outputs": [],
   "source": [
    "def on_release(key):\n",
    "    print('{0} released'.format(\n",
    "        key))\n",
    "    if key == keyboard.Key.esc:\n",
    "        # Stop listener\n",
    "        return False\n"
   ]
  },
  {
   "cell_type": "code",
   "execution_count": 11,
   "metadata": {},
   "outputs": [
    {
     "name": "stdout",
     "output_type": "stream",
     "text": [
      "Key.enter released\n",
      "Key.shift released\n",
      "'g' released\n",
      "'i' released\n",
      "'l' released\n",
      "'l' released\n",
      "'e' released\n",
      "'s' released\n",
      "Key.space released\n",
      "'i' released\n",
      "'s' released\n",
      "Key.space released\n",
      "'d' released\n",
      "'e' released\n",
      "Key.space released\n",
      "'b' released\n",
      "'e' released\n",
      "'s' released\n",
      "'t' released\n",
      "'e' released\n",
      "Key.space released\n",
      "'v' released\n",
      "'a' released\n",
      "'n' released\n",
      "Key.space released\n",
      "'d' released\n",
      "'e' released\n",
      "Key.space released\n",
      "'w' released\n",
      "'e' released\n",
      "'r' released\n",
      "'e' released\n",
      "'l' released\n",
      "'d' released\n",
      "Key.esc released\n"
     ]
    }
   ],
   "source": [
    "# Collect events until released\n",
    "with keyboard.Listener(\n",
    "        on_press=on_press,\n",
    "        on_release=on_release) as listener:\n",
    "    listener.join()"
   ]
  },
  {
   "cell_type": "code",
   "execution_count": null,
   "metadata": {},
   "outputs": [],
   "source": [
    "\n"
   ]
  },
  {
   "cell_type": "markdown",
   "metadata": {},
   "source": []
  },
  {
   "cell_type": "code",
   "execution_count": null,
   "metadata": {},
   "outputs": [],
   "source": []
  },
  {
   "cell_type": "markdown",
   "metadata": {},
   "source": []
  },
  {
   "cell_type": "code",
   "execution_count": null,
   "metadata": {},
   "outputs": [],
   "source": []
  }
 ],
 "metadata": {
  "kernelspec": {
   "display_name": "Python 3",
   "language": "python",
   "name": "python3"
  },
  "language_info": {
   "codemirror_mode": {
    "name": "ipython",
    "version": 3
   },
   "file_extension": ".py",
   "mimetype": "text/x-python",
   "name": "python",
   "nbconvert_exporter": "python",
   "pygments_lexer": "ipython3",
   "version": "3.5.4"
  }
 },
 "nbformat": 4,
 "nbformat_minor": 2
}
